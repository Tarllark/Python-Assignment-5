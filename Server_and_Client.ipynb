{
 "cells": [
  {
   "cell_type": "markdown",
   "metadata": {},
   "source": [
    "The project doesn't always work through notebook, so I have included the python files in the project, they are located in the \"Server\" folder, run at your own risk. "
   ]
  },
  {
   "cell_type": "markdown",
   "metadata": {},
   "source": [
    "# Part 1: Server"
   ]
  },
  {
   "cell_type": "code",
   "execution_count": 9,
   "metadata": {},
   "outputs": [],
   "source": [
    "######################################################\n",
    "# Title: f_server\n",
    "# Description: A simple server to test bruteforce attacks.\n",
    "# Author: Tarllark\n",
    "#\n",
    "######################################################\n",
    "\n",
    "from flask import Flask, request, abort\n",
    "\n",
    "app = Flask(__name__)\n",
    "\n",
    "\n",
    "@app.route('/', methods=['POST'])\n",
    "def brute():\n",
    "\tcontent = request.get_json()\n",
    "\tif(comparePSW(client_password = content[\"password\"])):\n",
    "\t\treturn '', 200\n",
    "\telse:\n",
    "\t\treturn '', 403\n",
    "\n",
    "def comparePSW(client_password = ''):\n",
    "\tSERVER_PASSWORD = 'aA'\n",
    "\tres = client_password == SERVER_PASSWORD\n",
    "\treturn res\n"
   ]
  },
  {
   "cell_type": "markdown",
   "metadata": {},
   "source": [
    "# Client data prep"
   ]
  },
  {
   "cell_type": "code",
   "execution_count": 5,
   "metadata": {},
   "outputs": [],
   "source": [
    "######################################################\n",
    "# Title: client\n",
    "# Description: A simple bruteforce client meant to demonstrate the difference between bruteforcing with a sequentiel attacks and parallel attacks.\n",
    "# Author: Tarllark\n",
    "######################################################\n",
    "\n",
    "from multiprocessing import Pool, cpu_count\n",
    "import requests as req\n",
    "import string\n",
    "\n",
    "\n",
    "def genPSW(dataset = [i for i in string.ascii_letters]):\n",
    "\tfor i in dataset:\n",
    "\t\tfor f in dataset:\n",
    "\t\t\tpassword = i+f\n",
    "\t\t\tyield password\n",
    "\n",
    "def attempt(psw = '', url = 'http://localhost:5000/'):\n",
    "\tresponse = req.post(url, json={\"password\":psw})\n",
    "\tres = '';\n",
    "\tif response.status_code == 200:\n",
    "\t\tres = 'The password is: ' + psw\n",
    "\t\treturn res\n",
    "\telse:\n",
    "\t\treturn\n",
    "\t"
   ]
  },
  {
   "cell_type": "markdown",
   "metadata": {},
   "source": [
    "# Part 2: Sequential attack"
   ]
  },
  {
   "cell_type": "code",
   "execution_count": 2,
   "metadata": {},
   "outputs": [],
   "source": [
    "def sequentielAttack(dataset = [i for i in genPSW()]):\n",
    "\tfor password in dataset:\n",
    "\t\tresult = attempt(psw = password)\n",
    "\t\tif result:\n",
    "\t\t\tprint(result)\n",
    "\t\t\tbreak;\n"
   ]
  },
  {
   "cell_type": "code",
   "execution_count": 3,
   "metadata": {},
   "outputs": [
    {
     "name": "stdout",
     "output_type": "stream",
     "text": [
      "The password is: aA\n"
     ]
    }
   ],
   "source": [
    "sequentielAttack()"
   ]
  },
  {
   "cell_type": "markdown",
   "metadata": {},
   "source": [
    "# Part 3: Parallel attack"
   ]
  },
  {
   "cell_type": "code",
   "execution_count": 6,
   "metadata": {},
   "outputs": [],
   "source": [
    "def parallelAttack(dataset = [i for i in genPSW()], workers = cpu_count()):\n",
    "\twith Pool(processes=workers) as p:\n",
    "\t\tres = p.map(attempt, dataset)\n",
    "\tfor i in res:\n",
    "\t\tif i != None:\n",
    "\t\t\tprint(i)\n"
   ]
  },
  {
   "cell_type": "code",
   "execution_count": null,
   "metadata": {},
   "outputs": [],
   "source": [
    "if __name__ == '__main__':\n",
    "    parallelAttack()"
   ]
  },
  {
   "cell_type": "markdown",
   "metadata": {},
   "source": [
    "Can't get this one to work in Jupyter Notebook, it is included as a python module in the \"Server\" folder."
   ]
  },
  {
   "cell_type": "markdown",
   "metadata": {},
   "source": [
    "# Timed attacks"
   ]
  },
  {
   "cell_type": "markdown",
   "metadata": {},
   "source": [
    "Due to it taking forever using %%timeit, I chose to just run the attacks and make note of the start and stop time:\n",
    "Sequential attack:\n",
    "Start: 21:03:27\n",
    "Stop: Still going after 20 min, so forcefully stopped it due to lack of time.\n",
    "Result: Theoreticly it should 8(amount of cores I have) times as long as the parallel attack, so roughly 48 minutes is the the estimated time.\n",
    "\n",
    "\n",
    "Parallel attack:\n",
    "Start: 20:50:25\n",
    "Stop: 20:56:06\n",
    "Result: ~6 min"
   ]
  }
 ],
 "metadata": {
  "kernelspec": {
   "display_name": "Python 3",
   "language": "python",
   "name": "python3"
  },
  "language_info": {
   "codemirror_mode": {
    "name": "ipython",
    "version": 3
   },
   "file_extension": ".py",
   "mimetype": "text/x-python",
   "name": "python",
   "nbconvert_exporter": "python",
   "pygments_lexer": "ipython3",
   "version": "3.7.1"
  }
 },
 "nbformat": 4,
 "nbformat_minor": 2
}
